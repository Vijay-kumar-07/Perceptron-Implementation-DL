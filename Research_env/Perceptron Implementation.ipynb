{
 "cells": [
  {
   "cell_type": "code",
   "execution_count": 1,
   "id": "e51971a7",
   "metadata": {},
   "outputs": [
    {
     "name": "stdout",
     "output_type": "stream",
     "text": [
      "Collecting joblib\n",
      "  Using cached joblib-1.1.0-py2.py3-none-any.whl (306 kB)\n",
      "Installing collected packages: joblib\n",
      "Successfully installed joblib-1.1.0\n"
     ]
    }
   ],
   "source": [
    "!pip install joblib"
   ]
  },
  {
   "cell_type": "code",
   "execution_count": 17,
   "id": "ade962c8",
   "metadata": {},
   "outputs": [],
   "source": [
    "import os\n",
    "import matplotlib.pyplot as plt\n",
    "import joblib\n",
    "import numpy as np\n",
    "import pandas as pd\n",
    "\n",
    "plt.style.use(\"fivethirtyeight\")"
   ]
  },
  {
   "cell_type": "code",
   "execution_count": 3,
   "id": "7d467994",
   "metadata": {},
   "outputs": [
    {
     "data": {
      "text/plain": [
       "0.0001"
      ]
     },
     "execution_count": 3,
     "metadata": {},
     "output_type": "execute_result"
    }
   ],
   "source": [
    "1e-4"
   ]
  },
  {
   "cell_type": "code",
   "execution_count": 6,
   "id": "9c680658",
   "metadata": {},
   "outputs": [
    {
     "data": {
      "text/plain": [
       "array([ 0.08822062,  0.89321005, -0.20149239])"
      ]
     },
     "execution_count": 6,
     "metadata": {},
     "output_type": "execute_result"
    }
   ],
   "source": [
    "np.random.randn(3) +1e-4"
   ]
  },
  {
   "cell_type": "code",
   "execution_count": 133,
   "id": "3bc5e01f",
   "metadata": {},
   "outputs": [],
   "source": [
    "class Perceptron:\n",
    "    def __init__(self, eta: float=None, epochs: int=None):\n",
    "        self.weights = np.random.randn(3) +1e-4\n",
    "        self.eta = eta #learning rate\n",
    "        self.epochs = epochs #iterations\n",
    "        \n",
    "    def _z_outcome(self, inputs, weights):\n",
    "        return np.dot(inputs, weights)\n",
    "    \n",
    "    def activation_function(self, z):\n",
    "        return np.where(z > 0,1,0)\n",
    "    \n",
    "        \n",
    "    def fit(self, X,y):\n",
    "        self.X = X\n",
    "        self.y = y\n",
    "        \n",
    "        X_with_bias = np.c_[self.X, -np.ones((len(self.X),1))]\n",
    "        print(f\"X with bias :\\n {X_with_bias}\")\n",
    "        \n",
    "        for epoch in range(self.epochs):\n",
    "            print(\"--\"*10)\n",
    "            print(f\"for epoch >> {epoch +1}\")\n",
    "            print(\"--\"*10)\n",
    "            \n",
    "            z = self._z_outcome(X_with_bias, self.weights)\n",
    "            y_hat = self.activation_function(z)\n",
    "            print(f\"Predicted value after forward pass: \\n {y_hat}\")\n",
    "            \n",
    "            \n",
    "            self.error = self.y - y_hat\n",
    "            print(f\"error: \\n{self.error}\")\n",
    "            self.weights = self.weights + self.eta * np.dot(X_with_bias.T,self.error)\n",
    "            print(f\"updated weights after epoch:{epoch+1}/{self.epochs}:\\n {self.weights}\")\n",
    "            print(f\"##\"*10)\n",
    "            \n",
    "    def predict(self, X):\n",
    "        X_with_bias = np.c_[X, -np.ones((len(X),1))]\n",
    "        z = self._z_outcome(X_with_bias, self.weights)\n",
    "        print(\"Z\", z)\n",
    "        return self.activation_function(z)\n",
    "    \n",
    "            \n",
    "        "
   ]
  },
  {
   "cell_type": "code",
   "execution_count": 134,
   "id": "842369e6",
   "metadata": {},
   "outputs": [
    {
     "data": {
      "text/html": [
       "<div>\n",
       "<style scoped>\n",
       "    .dataframe tbody tr th:only-of-type {\n",
       "        vertical-align: middle;\n",
       "    }\n",
       "\n",
       "    .dataframe tbody tr th {\n",
       "        vertical-align: top;\n",
       "    }\n",
       "\n",
       "    .dataframe thead th {\n",
       "        text-align: right;\n",
       "    }\n",
       "</style>\n",
       "<table border=\"1\" class=\"dataframe\">\n",
       "  <thead>\n",
       "    <tr style=\"text-align: right;\">\n",
       "      <th></th>\n",
       "      <th>x1</th>\n",
       "      <th>x2</th>\n",
       "      <th>y</th>\n",
       "    </tr>\n",
       "  </thead>\n",
       "  <tbody>\n",
       "    <tr>\n",
       "      <th>0</th>\n",
       "      <td>0</td>\n",
       "      <td>0</td>\n",
       "      <td>0</td>\n",
       "    </tr>\n",
       "    <tr>\n",
       "      <th>1</th>\n",
       "      <td>0</td>\n",
       "      <td>1</td>\n",
       "      <td>1</td>\n",
       "    </tr>\n",
       "    <tr>\n",
       "      <th>2</th>\n",
       "      <td>1</td>\n",
       "      <td>0</td>\n",
       "      <td>1</td>\n",
       "    </tr>\n",
       "    <tr>\n",
       "      <th>3</th>\n",
       "      <td>1</td>\n",
       "      <td>1</td>\n",
       "      <td>1</td>\n",
       "    </tr>\n",
       "  </tbody>\n",
       "</table>\n",
       "</div>"
      ],
      "text/plain": [
       "   x1  x2  y\n",
       "0   0   0  0\n",
       "1   0   1  1\n",
       "2   1   0  1\n",
       "3   1   1  1"
      ]
     },
     "execution_count": 134,
     "metadata": {},
     "output_type": "execute_result"
    }
   ],
   "source": [
    "OR = {\n",
    "    \"x1\":[0,0,1,1],\n",
    "    \"x2\":[0,1,0,1],\n",
    "    \"y\":[0,1,1,1]\n",
    "}\n",
    "\n",
    "df_OR = pd.DataFrame(OR)\n",
    "df_OR"
   ]
  },
  {
   "cell_type": "code",
   "execution_count": 142,
   "id": "398b7ab2",
   "metadata": {},
   "outputs": [
    {
     "data": {
      "text/html": [
       "<div>\n",
       "<style scoped>\n",
       "    .dataframe tbody tr th:only-of-type {\n",
       "        vertical-align: middle;\n",
       "    }\n",
       "\n",
       "    .dataframe tbody tr th {\n",
       "        vertical-align: top;\n",
       "    }\n",
       "\n",
       "    .dataframe thead th {\n",
       "        text-align: right;\n",
       "    }\n",
       "</style>\n",
       "<table border=\"1\" class=\"dataframe\">\n",
       "  <thead>\n",
       "    <tr style=\"text-align: right;\">\n",
       "      <th></th>\n",
       "      <th>x1</th>\n",
       "      <th>x2</th>\n",
       "      <th>y</th>\n",
       "    </tr>\n",
       "  </thead>\n",
       "  <tbody>\n",
       "    <tr>\n",
       "      <th>0</th>\n",
       "      <td>0</td>\n",
       "      <td>0</td>\n",
       "      <td>0</td>\n",
       "    </tr>\n",
       "    <tr>\n",
       "      <th>1</th>\n",
       "      <td>0</td>\n",
       "      <td>1</td>\n",
       "      <td>0</td>\n",
       "    </tr>\n",
       "    <tr>\n",
       "      <th>2</th>\n",
       "      <td>1</td>\n",
       "      <td>0</td>\n",
       "      <td>0</td>\n",
       "    </tr>\n",
       "    <tr>\n",
       "      <th>3</th>\n",
       "      <td>1</td>\n",
       "      <td>1</td>\n",
       "      <td>1</td>\n",
       "    </tr>\n",
       "  </tbody>\n",
       "</table>\n",
       "</div>"
      ],
      "text/plain": [
       "   x1  x2  y\n",
       "0   0   0  0\n",
       "1   0   1  0\n",
       "2   1   0  0\n",
       "3   1   1  1"
      ]
     },
     "execution_count": 142,
     "metadata": {},
     "output_type": "execute_result"
    }
   ],
   "source": [
    "AND = {\n",
    "    \"x1\":[0,0,1,1],\n",
    "    \"x2\":[0,1,0,1],\n",
    "    \"y\":[0,0,0,1]\n",
    "}\n",
    "\n",
    "df_AND = pd.DataFrame(AND)\n",
    "df_AND"
   ]
  },
  {
   "cell_type": "code",
   "execution_count": null,
   "id": "afc46739",
   "metadata": {},
   "outputs": [],
   "source": []
  },
  {
   "cell_type": "code",
   "execution_count": 143,
   "id": "451d7ee9",
   "metadata": {},
   "outputs": [],
   "source": [
    "def prepare_data(df, target_col = \"y\"):\n",
    "    X = df.drop(target_col, axis = 1)\n",
    "    y = df[target_col]\n",
    "    return X,y"
   ]
  },
  {
   "cell_type": "code",
   "execution_count": 144,
   "id": "cb80f245",
   "metadata": {},
   "outputs": [],
   "source": [
    "X, y = prepare_data(df_AND)\n",
    "\n",
    "ETA = 0.1\n",
    "EPOCHS = 10\n",
    "\n",
    "model_or = Perceptron(eta=ETA, epochs=EPOCHS)"
   ]
  },
  {
   "cell_type": "code",
   "execution_count": 145,
   "id": "e25ab4f4",
   "metadata": {},
   "outputs": [
    {
     "data": {
      "text/html": [
       "<div>\n",
       "<style scoped>\n",
       "    .dataframe tbody tr th:only-of-type {\n",
       "        vertical-align: middle;\n",
       "    }\n",
       "\n",
       "    .dataframe tbody tr th {\n",
       "        vertical-align: top;\n",
       "    }\n",
       "\n",
       "    .dataframe thead th {\n",
       "        text-align: right;\n",
       "    }\n",
       "</style>\n",
       "<table border=\"1\" class=\"dataframe\">\n",
       "  <thead>\n",
       "    <tr style=\"text-align: right;\">\n",
       "      <th></th>\n",
       "      <th>x1</th>\n",
       "      <th>x2</th>\n",
       "    </tr>\n",
       "  </thead>\n",
       "  <tbody>\n",
       "    <tr>\n",
       "      <th>0</th>\n",
       "      <td>0</td>\n",
       "      <td>0</td>\n",
       "    </tr>\n",
       "    <tr>\n",
       "      <th>1</th>\n",
       "      <td>0</td>\n",
       "      <td>1</td>\n",
       "    </tr>\n",
       "    <tr>\n",
       "      <th>2</th>\n",
       "      <td>1</td>\n",
       "      <td>0</td>\n",
       "    </tr>\n",
       "    <tr>\n",
       "      <th>3</th>\n",
       "      <td>1</td>\n",
       "      <td>1</td>\n",
       "    </tr>\n",
       "  </tbody>\n",
       "</table>\n",
       "</div>"
      ],
      "text/plain": [
       "   x1  x2\n",
       "0   0   0\n",
       "1   0   1\n",
       "2   1   0\n",
       "3   1   1"
      ]
     },
     "execution_count": 145,
     "metadata": {},
     "output_type": "execute_result"
    }
   ],
   "source": [
    "X"
   ]
  },
  {
   "cell_type": "code",
   "execution_count": 146,
   "id": "36703b43",
   "metadata": {},
   "outputs": [
    {
     "data": {
      "text/plain": [
       "0    0\n",
       "1    0\n",
       "2    0\n",
       "3    1\n",
       "Name: y, dtype: int64"
      ]
     },
     "execution_count": 146,
     "metadata": {},
     "output_type": "execute_result"
    }
   ],
   "source": [
    "y"
   ]
  },
  {
   "cell_type": "code",
   "execution_count": 147,
   "id": "73f62d32",
   "metadata": {},
   "outputs": [
    {
     "name": "stdout",
     "output_type": "stream",
     "text": [
      "X with bias :\n",
      " [[ 0.  0. -1.]\n",
      " [ 0.  1. -1.]\n",
      " [ 1.  0. -1.]\n",
      " [ 1.  1. -1.]]\n",
      "--------------------\n",
      "for epoch >> 1\n",
      "--------------------\n",
      "Predicted value after forward pass: \n",
      " [1 0 1 1]\n",
      "error: \n",
      "0   -1\n",
      "1    0\n",
      "2   -1\n",
      "3    0\n",
      "Name: y, dtype: int64\n",
      "updated weights after epoch:1/10:\n",
      " [ 1.44675057 -0.31865023  0.07461059]\n",
      "####################\n",
      "--------------------\n",
      "for epoch >> 2\n",
      "--------------------\n",
      "Predicted value after forward pass: \n",
      " [0 0 1 1]\n",
      "error: \n",
      "0    0\n",
      "1    0\n",
      "2   -1\n",
      "3    0\n",
      "Name: y, dtype: int64\n",
      "updated weights after epoch:2/10:\n",
      " [ 1.34675057 -0.31865023  0.17461059]\n",
      "####################\n",
      "--------------------\n",
      "for epoch >> 3\n",
      "--------------------\n",
      "Predicted value after forward pass: \n",
      " [0 0 1 1]\n",
      "error: \n",
      "0    0\n",
      "1    0\n",
      "2   -1\n",
      "3    0\n",
      "Name: y, dtype: int64\n",
      "updated weights after epoch:3/10:\n",
      " [ 1.24675057 -0.31865023  0.27461059]\n",
      "####################\n",
      "--------------------\n",
      "for epoch >> 4\n",
      "--------------------\n",
      "Predicted value after forward pass: \n",
      " [0 0 1 1]\n",
      "error: \n",
      "0    0\n",
      "1    0\n",
      "2   -1\n",
      "3    0\n",
      "Name: y, dtype: int64\n",
      "updated weights after epoch:4/10:\n",
      " [ 1.14675057 -0.31865023  0.37461059]\n",
      "####################\n",
      "--------------------\n",
      "for epoch >> 5\n",
      "--------------------\n",
      "Predicted value after forward pass: \n",
      " [0 0 1 1]\n",
      "error: \n",
      "0    0\n",
      "1    0\n",
      "2   -1\n",
      "3    0\n",
      "Name: y, dtype: int64\n",
      "updated weights after epoch:5/10:\n",
      " [ 1.04675057 -0.31865023  0.47461059]\n",
      "####################\n",
      "--------------------\n",
      "for epoch >> 6\n",
      "--------------------\n",
      "Predicted value after forward pass: \n",
      " [0 0 1 1]\n",
      "error: \n",
      "0    0\n",
      "1    0\n",
      "2   -1\n",
      "3    0\n",
      "Name: y, dtype: int64\n",
      "updated weights after epoch:6/10:\n",
      " [ 0.94675057 -0.31865023  0.57461059]\n",
      "####################\n",
      "--------------------\n",
      "for epoch >> 7\n",
      "--------------------\n",
      "Predicted value after forward pass: \n",
      " [0 0 1 1]\n",
      "error: \n",
      "0    0\n",
      "1    0\n",
      "2   -1\n",
      "3    0\n",
      "Name: y, dtype: int64\n",
      "updated weights after epoch:7/10:\n",
      " [ 0.84675057 -0.31865023  0.67461059]\n",
      "####################\n",
      "--------------------\n",
      "for epoch >> 8\n",
      "--------------------\n",
      "Predicted value after forward pass: \n",
      " [0 0 1 0]\n",
      "error: \n",
      "0    0\n",
      "1    0\n",
      "2   -1\n",
      "3    1\n",
      "Name: y, dtype: int64\n",
      "updated weights after epoch:8/10:\n",
      " [ 0.84675057 -0.21865023  0.67461059]\n",
      "####################\n",
      "--------------------\n",
      "for epoch >> 9\n",
      "--------------------\n",
      "Predicted value after forward pass: \n",
      " [0 0 1 0]\n",
      "error: \n",
      "0    0\n",
      "1    0\n",
      "2   -1\n",
      "3    1\n",
      "Name: y, dtype: int64\n",
      "updated weights after epoch:9/10:\n",
      " [ 0.84675057 -0.11865023  0.67461059]\n",
      "####################\n",
      "--------------------\n",
      "for epoch >> 10\n",
      "--------------------\n",
      "Predicted value after forward pass: \n",
      " [0 0 1 1]\n",
      "error: \n",
      "0    0\n",
      "1    0\n",
      "2   -1\n",
      "3    0\n",
      "Name: y, dtype: int64\n",
      "updated weights after epoch:10/10:\n",
      " [ 0.74675057 -0.11865023  0.77461059]\n",
      "####################\n"
     ]
    }
   ],
   "source": [
    "model_or.fit(X,y)"
   ]
  },
  {
   "cell_type": "code",
   "execution_count": 148,
   "id": "a746d68d",
   "metadata": {},
   "outputs": [
    {
     "name": "stdout",
     "output_type": "stream",
     "text": [
      "Z [-0.02786002]\n"
     ]
    },
    {
     "data": {
      "text/plain": [
       "array([0])"
      ]
     },
     "execution_count": 148,
     "metadata": {},
     "output_type": "execute_result"
    }
   ],
   "source": [
    "model_or.predict(X=[[1,0]])"
   ]
  },
  {
   "cell_type": "code",
   "execution_count": null,
   "id": "ca8bf29b",
   "metadata": {},
   "outputs": [],
   "source": []
  },
  {
   "cell_type": "code",
   "execution_count": null,
   "id": "4f7ee22e",
   "metadata": {},
   "outputs": [],
   "source": []
  },
  {
   "cell_type": "code",
   "execution_count": null,
   "id": "71b5d2d1",
   "metadata": {},
   "outputs": [],
   "source": []
  },
  {
   "cell_type": "code",
   "execution_count": 9,
   "id": "88c07b61",
   "metadata": {},
   "outputs": [],
   "source": [
    "obj = Perceptron(eta=0.01, epochs=10)"
   ]
  },
  {
   "cell_type": "code",
   "execution_count": 11,
   "id": "b8c27522",
   "metadata": {},
   "outputs": [
    {
     "data": {
      "text/plain": [
       "array([-1.55554119, -1.28481479, -1.49885082])"
      ]
     },
     "execution_count": 11,
     "metadata": {},
     "output_type": "execute_result"
    }
   ],
   "source": [
    "obj.weights"
   ]
  },
  {
   "cell_type": "code",
   "execution_count": 15,
   "id": "5e2d5f5d",
   "metadata": {},
   "outputs": [
    {
     "data": {
      "text/plain": [
       "array([[1.],\n",
       "       [1.],\n",
       "       [1.],\n",
       "       [1.]])"
      ]
     },
     "execution_count": 15,
     "metadata": {},
     "output_type": "execute_result"
    }
   ],
   "source": [
    "y = np.ones((4,1))\n",
    "y"
   ]
  },
  {
   "cell_type": "code",
   "execution_count": 13,
   "id": "8bf2c6f1",
   "metadata": {},
   "outputs": [
    {
     "data": {
      "text/plain": [
       "array([[1., 1.],\n",
       "       [1., 1.],\n",
       "       [1., 1.],\n",
       "       [1., 1.]])"
      ]
     },
     "execution_count": 13,
     "metadata": {},
     "output_type": "execute_result"
    }
   ],
   "source": [
    "X = np.ones((4,2))\n",
    "X"
   ]
  },
  {
   "cell_type": "code",
   "execution_count": 16,
   "id": "3760d0db",
   "metadata": {},
   "outputs": [
    {
     "name": "stdout",
     "output_type": "stream",
     "text": [
      "X with bias :\n",
      " [[ 1.  1. -1.]\n",
      " [ 1.  1. -1.]\n",
      " [ 1.  1. -1.]\n",
      " [ 1.  1. -1.]]\n"
     ]
    }
   ],
   "source": [
    "obj.fit(X, y)"
   ]
  },
  {
   "cell_type": "code",
   "execution_count": null,
   "id": "11fdf709",
   "metadata": {},
   "outputs": [],
   "source": []
  }
 ],
 "metadata": {
  "kernelspec": {
   "display_name": "Python 3 (ipykernel)",
   "language": "python",
   "name": "python3"
  },
  "language_info": {
   "codemirror_mode": {
    "name": "ipython",
    "version": 3
   },
   "file_extension": ".py",
   "mimetype": "text/x-python",
   "name": "python",
   "nbconvert_exporter": "python",
   "pygments_lexer": "ipython3",
   "version": "3.7.11"
  }
 },
 "nbformat": 4,
 "nbformat_minor": 5
}
